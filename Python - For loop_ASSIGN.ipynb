{
 "cells": [
  {
   "cell_type": "markdown",
   "id": "66ad0875",
   "metadata": {},
   "source": [
    "# Basic Level:\n"
   ]
  },
  {
   "cell_type": "markdown",
   "id": "35794139",
   "metadata": {},
   "source": [
    "# 1. Write a Python program to print the numbers from 1 to 10 using a `for` loop.\n"
   ]
  },
  {
   "cell_type": "code",
   "execution_count": 4,
   "id": "a5224743",
   "metadata": {},
   "outputs": [
    {
     "name": "stdout",
     "output_type": "stream",
     "text": [
      "1 2 3 4 5 6 7 8 9 10 "
     ]
    }
   ],
   "source": [
    "for i in range(1,11):\n",
    "    print(i ,end=\" \")"
   ]
  },
  {
   "cell_type": "markdown",
   "id": "98b66371",
   "metadata": {},
   "source": [
    "# 2. Create a program that calculates the sum of all numbers in a list using a `for` loop.\n"
   ]
  },
  {
   "cell_type": "code",
   "execution_count": 6,
   "id": "25261a15",
   "metadata": {},
   "outputs": [
    {
     "name": "stdout",
     "output_type": "stream",
     "text": [
      "The given list is:\n",
      "[1, 2, 3, 4, 5, 6, 7, 8, 9]\n",
      "Sum of all the elements in the list is: 45\n"
     ]
    }
   ],
   "source": [
    "myList = [1, 2, 3, 4, 5, 6, 7, 8, 9]\n",
    "print(\"The given list is:\")\n",
    "print(myList)\n",
    "list_length=len(myList)\n",
    "SumOfElements=0\n",
    "for i in range(list_length):\n",
    "    SumOfElements=SumOfElements+myList[i]\n",
    "\n",
    "print(\"Sum of all the elements in the list is:\", SumOfElements)"
   ]
  },
  {
   "cell_type": "markdown",
   "id": "8139f1aa",
   "metadata": {},
   "source": [
    "# 3. Write a program to print the characters of a string in reverse order using a `for` loop.\n"
   ]
  },
  {
   "cell_type": "code",
   "execution_count": 7,
   "id": "6595a5f5",
   "metadata": {},
   "outputs": [
    {
     "name": "stdout",
     "output_type": "stream",
     "text": [
      "Enter the string: MAYUR\n",
      "The reverse string is RUYAM\n"
     ]
    }
   ],
   "source": [
    "# take inputs\n",
    "string = input('Enter the string: ')\n",
    "\n",
    "# find reverse of string\n",
    "reverse = ''\n",
    "for i in range(len(string), 0, -1):\n",
    "   reverse += string[i-1]\n",
    "\n",
    "# print reverse of string\n",
    "print('The reverse string is', reverse)"
   ]
  },
  {
   "cell_type": "markdown",
   "id": "bf86a9a3",
   "metadata": {},
   "source": [
    "# 4. Develop a program that finds the factorial of a given number using a `for` loop.\n"
   ]
  },
  {
   "cell_type": "code",
   "execution_count": 12,
   "id": "f9988fb4",
   "metadata": {},
   "outputs": [
    {
     "name": "stdout",
     "output_type": "stream",
     "text": [
      "enter a number: 5\n",
      "factorial of  5  is  120\n"
     ]
    }
   ],
   "source": [
    "num = int(input(\"enter a number: \"))\n",
    " \n",
    "fact = 1\n",
    " \n",
    "for i in range(1, num + 1):\n",
    "    fact = fact * i\n",
    "    \n",
    "print(\"factorial of \", num, \" is \", fact)"
   ]
  },
  {
   "cell_type": "markdown",
   "id": "f19f973f",
   "metadata": {},
   "source": [
    "# 5. Create a program to print the multiplication table of a given number using a `for` loop.\n"
   ]
  },
  {
   "cell_type": "code",
   "execution_count": 15,
   "id": "2cce1af7",
   "metadata": {},
   "outputs": [
    {
     "name": "stdout",
     "output_type": "stream",
     "text": [
      "Enter any number :2\n",
      "2 x 1 = 2\n",
      "2 x 2 = 4\n",
      "2 x 3 = 6\n",
      "2 x 4 = 8\n",
      "2 x 5 = 10\n",
      "2 x 6 = 12\n",
      "2 x 7 = 14\n",
      "2 x 8 = 16\n",
      "2 x 9 = 18\n",
      "2 x 10 = 20\n"
     ]
    }
   ],
   "source": [
    "num = int(input(\"Enter any number :\"))\n",
    "\n",
    "# Iterate 10 times from i = 1 to 10\n",
    "for i in range(1, 11):\n",
    "   print(num, 'x', i, '=', num*i)"
   ]
  },
  {
   "cell_type": "markdown",
   "id": "d061e8d1",
   "metadata": {},
   "source": [
    "# 6. Write a program that counts the number of even and odd numbers in a list using a `for` loop.\n"
   ]
  },
  {
   "cell_type": "code",
   "execution_count": 16,
   "id": "24889c63",
   "metadata": {},
   "outputs": [
    {
     "name": "stdout",
     "output_type": "stream",
     "text": [
      "Even numbers in the list:  3\n",
      "Odd numbers in the list:  4\n"
     ]
    }
   ],
   "source": [
    "# list of numbers\n",
    "list1 = [10, 21, 4, 45, 66, 93, 1]\n",
    " \n",
    "even_count, odd_count = 0, 0\n",
    " \n",
    "# iterating each number in list\n",
    "for num in list1:\n",
    " \n",
    "    # checking condition\n",
    "    if num % 2 == 0:\n",
    "        even_count += 1\n",
    " \n",
    "    else:\n",
    "        odd_count += 1\n",
    " \n",
    "print(\"Even numbers in the list: \", even_count)\n",
    "print(\"Odd numbers in the list: \", odd_count)"
   ]
  },
  {
   "cell_type": "markdown",
   "id": "957d48a8",
   "metadata": {},
   "source": [
    "# 7. Develop a program that prints the squares of numbers from 1 to 5 using a `for` loop.\n"
   ]
  },
  {
   "cell_type": "code",
   "execution_count": 19,
   "id": "2411e997",
   "metadata": {},
   "outputs": [
    {
     "name": "stdout",
     "output_type": "stream",
     "text": [
      "The square of the 1 is 1\n",
      "The square of the 2 is 4\n",
      "The square of the 3 is 9\n",
      "The square of the 4 is 16\n",
      "The square of the 5 is 25\n"
     ]
    }
   ],
   "source": [
    "for i in range(1,6):\n",
    "    print(\"The square of the\",i,\"is\",i*i)"
   ]
  },
  {
   "cell_type": "markdown",
   "id": "319d06c2",
   "metadata": {},
   "source": [
    "# 8. Create a program to find the length of a string without using the `len()` function.\n"
   ]
  },
  {
   "cell_type": "code",
   "execution_count": 24,
   "id": "0dd8c51e",
   "metadata": {},
   "outputs": [
    {
     "name": "stdout",
     "output_type": "stream",
     "text": [
      "5\n"
     ]
    }
   ],
   "source": [
    "# Returns length of string\n",
    "def findLen(str):\n",
    "    counter = 0\n",
    "    for i in str:\n",
    "        counter += 1\n",
    "    return counter\n",
    "\n",
    "\n",
    "str = (\"MAYUR\")\n",
    "print(findLen(str))\n"
   ]
  },
  {
   "cell_type": "markdown",
   "id": "b3bcb635",
   "metadata": {},
   "source": [
    "# 9. Write a program that calculates the average of a list of numbers using a `for` loop.\n"
   ]
  },
  {
   "cell_type": "code",
   "execution_count": 28,
   "id": "7474a118",
   "metadata": {},
   "outputs": [
    {
     "name": "stdout",
     "output_type": "stream",
     "text": [
      "Average of the list = 3.0\n"
     ]
    }
   ],
   "source": [
    "# Python code to get average of list\n",
    "def Average(lst):\n",
    "    sum_of_list = 0\n",
    "    for i in range(len(lst)):\n",
    "        sum_of_list += lst[i]\n",
    "    average = sum_of_list/len(lst)\n",
    "    return average\n",
    "\n",
    "\n",
    "# Driver Code\n",
    "lst = [1,2,3,4,5]\n",
    "average = Average(lst)\n",
    "print(\"Average of the list =\", round(average, 2))\n"
   ]
  },
  {
   "cell_type": "markdown",
   "id": "1f64a3ba",
   "metadata": {},
   "source": [
    "# 10. Develop a program that prints the first `n` Fibonacci numbers using a `for` loop.\n"
   ]
  },
  {
   "cell_type": "code",
   "execution_count": 36,
   "id": "d1326ce7",
   "metadata": {},
   "outputs": [
    {
     "name": "stdout",
     "output_type": "stream",
     "text": [
      "Enter any number :15\n",
      "0 1 1 2 3 5 8 13 21 34 55 89 144 233 377 "
     ]
    }
   ],
   "source": [
    "n = int(input(\"Enter any number :\"))\n",
    "fibonacci_numbers = print_fibonacci(n)\n",
    "# Print the first n Fibonacci numbers\n",
    "for i in range(n):\n",
    "    print(fibonacci_numbers[i], end=\" \")\n"
   ]
  },
  {
   "cell_type": "markdown",
   "id": "77a87748",
   "metadata": {},
   "source": [
    "# Intermediate Level:\n"
   ]
  },
  {
   "cell_type": "markdown",
   "id": "babe9142",
   "metadata": {},
   "source": [
    "# 11. Write a program to check if a given list contains any duplicates using a `for` loop.\n"
   ]
  },
  {
   "cell_type": "code",
   "execution_count": 38,
   "id": "c9396b4f",
   "metadata": {},
   "outputs": [
    {
     "name": "stdout",
     "output_type": "stream",
     "text": [
      "List1 is: [1, 2, 3, 4, 5, 6, 7]\n",
      "List has no duplicate elements.\n",
      "List2 is: [1, 2, 1, 2, 4, 6, 7]\n",
      "The list contains duplicate elements.\n"
     ]
    }
   ],
   "source": [
    "def check_duplicate(l):\n",
    "    visited = set()\n",
    "    has_duplicate = False\n",
    "    for element in l:\n",
    "        if element in visited:\n",
    "            print(\"The list contains duplicate elements.\")\n",
    "            has_duplicate = True\n",
    "            break\n",
    "        else:\n",
    "            visited.add(element)\n",
    "    if not has_duplicate:\n",
    "        print(\"List has no duplicate elements.\")\n",
    "\n",
    "\n",
    "list1 = [1, 2, 3, 4, 5, 6, 7]\n",
    "print(\"List1 is:\", list1)\n",
    "check_duplicate(list1)\n",
    "list2 = [1, 2, 1, 2, 4, 6, 7]\n",
    "print(\"List2 is:\", list2)\n",
    "check_duplicate(list2)"
   ]
  },
  {
   "cell_type": "markdown",
   "id": "d6d8a819",
   "metadata": {},
   "source": [
    "# 12. Create a program that prints the prime numbers in a given range using a `for` loop.\n"
   ]
  },
  {
   "cell_type": "code",
   "execution_count": 40,
   "id": "55bf2ff9",
   "metadata": {},
   "outputs": [
    {
     "name": "stdout",
     "output_type": "stream",
     "text": [
      "Prime numbers between 0 and 25 are:\n",
      "2\n",
      "3\n",
      "5\n",
      "7\n",
      "11\n",
      "13\n",
      "17\n",
      "19\n",
      "23\n"
     ]
    }
   ],
   "source": [
    "lower = 0\n",
    "upper = 25\n",
    "\n",
    "print(\"Prime numbers between\", lower, \"and\", upper, \"are:\")\n",
    "\n",
    "for num in range(lower, upper + 1):\n",
    "   # all prime numbers are greater than 1\n",
    "   if num > 1:\n",
    "       for i in range(2, num):\n",
    "           if (num % i) == 0:\n",
    "               break\n",
    "       else:\n",
    "           print(num)"
   ]
  },
  {
   "cell_type": "markdown",
   "id": "6bd463e6",
   "metadata": {},
   "source": [
    "# 13. Develop a program that counts the number of vowels in a string using a `for` loop.\n"
   ]
  },
  {
   "cell_type": "code",
   "execution_count": 42,
   "id": "979bf6fa",
   "metadata": {},
   "outputs": [
    {
     "name": "stdout",
     "output_type": "stream",
     "text": [
      "Enter any string :hello all my name is mayur \n",
      "{'a': 3, 'e': 2, 'i': 1, 'o': 1, 'u': 1}\n"
     ]
    }
   ],
   "source": [
    "# string of vowels\n",
    "vowels = 'aeiou'\n",
    "\n",
    "str= input(\"Enter any string :\")\n",
    "\n",
    "# make it suitable for caseless comparisions\n",
    "str = str.casefold()\n",
    "\n",
    "# make a dictionary with each vowel a key and value 0\n",
    "count = {}.fromkeys(vowels,0)\n",
    "\n",
    "# count the vowels\n",
    "for char in str:\n",
    "   if char in count:\n",
    "       count[char] += 1\n",
    "\n",
    "print(count)"
   ]
  },
  {
   "cell_type": "markdown",
   "id": "0b2d2697",
   "metadata": {},
   "source": [
    "# 14. Write a program to find the maximum element in a 2D list using a nested `for` loop.\n"
   ]
  },
  {
   "cell_type": "code",
   "execution_count": 43,
   "id": "81e5298b",
   "metadata": {},
   "outputs": [
    {
     "name": "stdout",
     "output_type": "stream",
     "text": [
      "The maximum element in the 2D list is: 9\n"
     ]
    }
   ],
   "source": [
    "# Function to find the maximum element in a 2D list\n",
    "def find_max_element(matrix):\n",
    "    if not matrix:\n",
    "        print(\"The matrix is empty.\")\n",
    "        return None\n",
    "\n",
    "    # Initialize max_element with the first element of the matrix\n",
    "    max_element = matrix[0][0]\n",
    "\n",
    "    # Loop through each row in the matrix\n",
    "    for row in matrix:\n",
    "        # Loop through each element in the current row\n",
    "        for element in row:\n",
    "            if element > max_element:\n",
    "                max_element = element\n",
    "\n",
    "    return max_element\n",
    "\n",
    "# Example usage\n",
    "matrix = [\n",
    "    [1, 2, 3],\n",
    "    [4, 5, 6],\n",
    "    [7, 8, 9]\n",
    "]\n",
    "\n",
    "max_value = find_max_element(matrix)\n",
    "if max_value is not None:\n",
    "    print(\"The maximum element in the 2D list is:\", max_value)\n"
   ]
  },
  {
   "cell_type": "markdown",
   "id": "e95783d9",
   "metadata": {},
   "source": [
    "# 15. Create a program that removes all occurrences of a specific element from a list using a `for` loop.\n"
   ]
  },
  {
   "cell_type": "code",
   "execution_count": 50,
   "id": "f78370a1",
   "metadata": {},
   "outputs": [
    {
     "name": "stdout",
     "output_type": "stream",
     "text": [
      "Original list: [1, 2, 3, 4, 3, 5, 6, 3]\n",
      "List after removing all occurrences of 3 : [1, 2, 4, 5, 6]\n"
     ]
    }
   ],
   "source": [
    "# Function to remove all occurrences of a specific element from a list\n",
    "def remove_element_from_list(input_list, element_to_remove):\n",
    "    result_list = []  # Initialize an empty list to store the filtered elements\n",
    "\n",
    "    # Loop through the input list\n",
    "    for element in input_list:\n",
    "        if element != element_to_remove:\n",
    "            result_list.append(element)  # Add the element to the result list if it's not the one to remove\n",
    "\n",
    "    return result_list\n",
    "\n",
    "# Example usage\n",
    "my_list = [1, 2, 3, 4, 3, 5, 6, 3]\n",
    "element_to_remove = 3\n",
    "filtered_list = remove_element_from_list(my_list, element_to_remove)\n",
    "print(\"Original list:\", my_list)\n",
    "print(\"List after removing all occurrences of\", element_to_remove, \":\", filtered_list)"
   ]
  },
  {
   "cell_type": "markdown",
   "id": "d0dc5f79",
   "metadata": {},
   "source": [
    "# 16. Develop a program that generates a multiplication table for numbers from 1 to 5 using a nested `for` loop.\n"
   ]
  },
  {
   "cell_type": "code",
   "execution_count": 51,
   "id": "be0b2275",
   "metadata": {},
   "outputs": [
    {
     "name": "stdout",
     "output_type": "stream",
     "text": [
      "Multiplication table for 1:\n",
      "1 x 1 = 1\n",
      "1 x 2 = 2\n",
      "1 x 3 = 3\n",
      "1 x 4 = 4\n",
      "1 x 5 = 5\n",
      "1 x 6 = 6\n",
      "1 x 7 = 7\n",
      "1 x 8 = 8\n",
      "1 x 9 = 9\n",
      "1 x 10 = 10\n",
      "\n",
      "Multiplication table for 2:\n",
      "2 x 1 = 2\n",
      "2 x 2 = 4\n",
      "2 x 3 = 6\n",
      "2 x 4 = 8\n",
      "2 x 5 = 10\n",
      "2 x 6 = 12\n",
      "2 x 7 = 14\n",
      "2 x 8 = 16\n",
      "2 x 9 = 18\n",
      "2 x 10 = 20\n",
      "\n",
      "Multiplication table for 3:\n",
      "3 x 1 = 3\n",
      "3 x 2 = 6\n",
      "3 x 3 = 9\n",
      "3 x 4 = 12\n",
      "3 x 5 = 15\n",
      "3 x 6 = 18\n",
      "3 x 7 = 21\n",
      "3 x 8 = 24\n",
      "3 x 9 = 27\n",
      "3 x 10 = 30\n",
      "\n",
      "Multiplication table for 4:\n",
      "4 x 1 = 4\n",
      "4 x 2 = 8\n",
      "4 x 3 = 12\n",
      "4 x 4 = 16\n",
      "4 x 5 = 20\n",
      "4 x 6 = 24\n",
      "4 x 7 = 28\n",
      "4 x 8 = 32\n",
      "4 x 9 = 36\n",
      "4 x 10 = 40\n",
      "\n",
      "Multiplication table for 5:\n",
      "5 x 1 = 5\n",
      "5 x 2 = 10\n",
      "5 x 3 = 15\n",
      "5 x 4 = 20\n",
      "5 x 5 = 25\n",
      "5 x 6 = 30\n",
      "5 x 7 = 35\n",
      "5 x 8 = 40\n",
      "5 x 9 = 45\n",
      "5 x 10 = 50\n",
      "\n"
     ]
    }
   ],
   "source": [
    "# Function to generate a multiplication table for numbers from 1 to n\n",
    "def generate_multiplication_table(n):\n",
    "    for i in range(1, n + 1):\n",
    "        print(f\"Multiplication table for {i}:\")\n",
    "\n",
    "        # Nested loop to calculate and print the multiplication table\n",
    "        for j in range(1, 11):  # Multiplication table up to 10\n",
    "            product = i * j\n",
    "            print(f\"{i} x {j} = {product}\")\n",
    "        \n",
    "        print()  # Add a newline after each table\n",
    "\n",
    "# Example usage\n",
    "generate_multiplication_table(5)\n"
   ]
  },
  {
   "cell_type": "markdown",
   "id": "6c88e4db",
   "metadata": {},
   "source": [
    "# 17. Write a program that converts a list of Fahrenheit temperatures to Celsius using a `for` loop.\n"
   ]
  },
  {
   "cell_type": "code",
   "execution_count": 52,
   "id": "2895911d",
   "metadata": {},
   "outputs": [
    {
     "name": "stdout",
     "output_type": "stream",
     "text": [
      "32°F is 0.00°C\n",
      "68°F is 20.00°C\n",
      "100°F is 37.78°C\n",
      "212°F is 100.00°C\n"
     ]
    }
   ],
   "source": [
    "# Function to convert Fahrenheit to Celsius\n",
    "def fahrenheit_to_celsius(fahrenheit):\n",
    "    return (fahrenheit - 32) * 5/9\n",
    "\n",
    "# Function to convert a list of Fahrenheit temperatures to Celsius\n",
    "def convert_to_celsius(fahrenheit_list):\n",
    "    celsius_list = []  # Initialize an empty list to store the Celsius temperatures\n",
    "    \n",
    "    # Loop through each Fahrenheit temperature in the list\n",
    "    for temp_fahrenheit in fahrenheit_list:\n",
    "        temp_celsius = fahrenheit_to_celsius(temp_fahrenheit)  # Convert to Celsius\n",
    "        celsius_list.append(temp_celsius)  # Append the result to the Celsius list\n",
    "\n",
    "    return celsius_list\n",
    "\n",
    "# list in fahrenheit\n",
    "fahrenheit_temperatures = [32, 68, 100, 212]\n",
    "celsius_temperatures = convert_to_celsius(fahrenheit_temperatures)\n",
    "\n",
    "# Print the converted temperatures\n",
    "for i in range(len(fahrenheit_temperatures)):\n",
    "    print(f\"{fahrenheit_temperatures[i]}°F is {celsius_temperatures[i]:.2f}°C\")\n"
   ]
  },
  {
   "cell_type": "markdown",
   "id": "2621cac5",
   "metadata": {},
   "source": [
    "# 18. Create a program to print the common elements from two lists using a `for` loop.\n"
   ]
  },
  {
   "cell_type": "code",
   "execution_count": 53,
   "id": "fd58e0b5",
   "metadata": {},
   "outputs": [
    {
     "name": "stdout",
     "output_type": "stream",
     "text": [
      "Common elements between the two lists: [3, 4, 5]\n"
     ]
    }
   ],
   "source": [
    "# Function to find and print common elements between two lists\n",
    "def find_common_elements(list1, list2):\n",
    "    common_elements = []  # Initialize an empty list to store common elements\n",
    "\n",
    "    # Loop through the elements of the first list\n",
    "    for element1 in list1:\n",
    "        # Loop through the elements of the second list\n",
    "        for element2 in list2:\n",
    "            if element1 == element2:\n",
    "                common_elements.append(element1)  # Add the common element to the list\n",
    "\n",
    "    return common_elements\n",
    "\n",
    "#lists are as below\n",
    "list1 = [1, 2, 3, 4, 5]\n",
    "list2 = [3, 4, 5, 6, 7]\n",
    "\n",
    "common_elements = find_common_elements(list1, list2)\n",
    "\n",
    "if common_elements:\n",
    "    print(\"Common elements between the two lists:\", common_elements)\n",
    "else:\n",
    "    print(\"There are no common elements between the two lists.\")\n"
   ]
  },
  {
   "cell_type": "markdown",
   "id": "49a41b21",
   "metadata": {},
   "source": [
    "# 19. Develop a program that prints the pattern of right-angled triangles using a `for` loop. Use ‘*’ to draw the pattern\n"
   ]
  },
  {
   "cell_type": "code",
   "execution_count": 54,
   "id": "80d0c9e4",
   "metadata": {},
   "outputs": [
    {
     "name": "stdout",
     "output_type": "stream",
     "text": [
      "*\n",
      "**\n",
      "***\n",
      "****\n",
      "*****\n"
     ]
    }
   ],
   "source": [
    "# Function to print a pattern of right-angled triangles\n",
    "def print_right_angle_triangles(n):\n",
    "    for i in range(1, n + 1):\n",
    "        for j in range(i):\n",
    "            print(\"*\", end=\"\")\n",
    "        print()\n",
    "\n",
    "# Example usage\n",
    "n = 5  # Change this value to control the number of triangles\n",
    "print_right_angle_triangles(n)\n"
   ]
  },
  {
   "cell_type": "markdown",
   "id": "ed216f82",
   "metadata": {},
   "source": [
    "# 20. Write a program to find the greatest common divisor (GCD) of two numbers using a `for` loop.\n"
   ]
  },
  {
   "cell_type": "code",
   "execution_count": 55,
   "id": "aa145fb2",
   "metadata": {},
   "outputs": [
    {
     "name": "stdout",
     "output_type": "stream",
     "text": [
      "The GCD of 48 and 18 is 6\n"
     ]
    }
   ],
   "source": [
    "# Function to find the GCD of two numbers using a for loop\n",
    "def find_gcd(a, b):\n",
    "    # Find the minimum of the two numbers\n",
    "    min_num = min(a, b)\n",
    "\n",
    "    # Initialize GCD to 1 (since GCD cannot be greater than 1)\n",
    "    gcd = 1\n",
    "\n",
    "    # Iterate from 1 to the minimum number\n",
    "    for i in range(1, min_num + 1):\n",
    "        # Check if both a and b are divisible by the current number (i)\n",
    "        if a % i == 0 and b % i == 0:\n",
    "            gcd = i  # Update the GCD if i is a common divisor\n",
    "\n",
    "    return gcd\n",
    "\n",
    "# inputs taken\n",
    "num1 = 48\n",
    "num2 = 18\n",
    "result = find_gcd(num1, num2)\n",
    "print(f\"The GCD of {num1} and {num2} is {result}\")\n"
   ]
  },
  {
   "cell_type": "markdown",
   "id": "3394e3b0",
   "metadata": {},
   "source": [
    "# Advanced Level:\n"
   ]
  },
  {
   "cell_type": "markdown",
   "id": "4689c543",
   "metadata": {},
   "source": [
    "# 21. Create a program that calculates the sum of the digits of numbers in a list using a list comprehension.\n"
   ]
  },
  {
   "cell_type": "code",
   "execution_count": 1,
   "id": "ec6d04c5",
   "metadata": {},
   "outputs": [
    {
     "name": "stdout",
     "output_type": "stream",
     "text": [
      "Number: 123, Sum of Digits: 6\n",
      "Number: 45, Sum of Digits: 9\n",
      "Number: 678, Sum of Digits: 21\n",
      "Number: 9, Sum of Digits: 9\n",
      "Number: 10, Sum of Digits: 1\n"
     ]
    }
   ],
   "source": [
    "# Function to calculate the sum of digits of a number\n",
    "def sum_of_digits(number):\n",
    "    return sum(int(digit) for digit in str(number))\n",
    "\n",
    "# List of numbers\n",
    "numbers = [123, 45, 678, 9, 10]\n",
    "\n",
    "# Calculate the sum of digits for each number using list comprehension\n",
    "sums = [sum_of_digits(num) for num in numbers]\n",
    "\n",
    "# Print the original numbers and their respective sums\n",
    "for i in range(len(numbers)):\n",
    "    print(f\"Number: {numbers[i]}, Sum of Digits: {sums[i]}\")\n"
   ]
  },
  {
   "cell_type": "markdown",
   "id": "876c3cdd",
   "metadata": {},
   "source": [
    "# 22. Write a program to find the prime factors of a given number using a `for` loop and list comprehension.\n"
   ]
  },
  {
   "cell_type": "code",
   "execution_count": 2,
   "id": "a61c58ff",
   "metadata": {},
   "outputs": [
    {
     "name": "stdout",
     "output_type": "stream",
     "text": [
      " Please Enter any Number: 10\n",
      " 2 is a Prime Factor of a Given Number 10\n",
      " 5 is a Prime Factor of a Given Number 10\n"
     ]
    }
   ],
   "source": [
    "# Python Program to find Prime Factors of a Number\n",
    " \n",
    "Number = int(input(\" Please Enter any Number: \"))\n",
    "\n",
    "for i in range(2, Number + 1):\n",
    "    if(Number % i == 0):\n",
    "        isprime = 1\n",
    "        for j in range(2, (i //2 + 1)):\n",
    "            if(i % j == 0):\n",
    "                isprime = 0\n",
    "                break\n",
    "            \n",
    "        if (isprime == 1):\n",
    "            print(\" %d is a Prime Factor of a Given Number %d\" %(i, Number))"
   ]
  },
  {
   "cell_type": "markdown",
   "id": "e1215cdb",
   "metadata": {},
   "source": [
    "# 23. Develop a program that extracts unique elements from a list and stores them in a new list using a list comprehension.\n"
   ]
  },
  {
   "cell_type": "code",
   "execution_count": 3,
   "id": "ea9f1064",
   "metadata": {},
   "outputs": [
    {
     "name": "stdout",
     "output_type": "stream",
     "text": [
      "Original List: [1, 2, 2, 3, 4, 4, 5, 5, 6, 6]\n",
      "Unique Elements List: [1, 2, 3, 4, 5, 6]\n"
     ]
    }
   ],
   "source": [
    "# Function to extract unique elements from a list using list comprehension\n",
    "def extract_unique_elements(input_list):\n",
    "    return list(set(input_list))\n",
    "\n",
    "# Example usage\n",
    "original_list = [1, 2, 2, 3, 4, 4, 5, 5, 6, 6]\n",
    "unique_elements = extract_unique_elements(original_list)\n",
    "\n",
    "print(\"Original List:\", original_list)\n",
    "print(\"Unique Elements List:\", unique_elements)\n"
   ]
  },
  {
   "cell_type": "markdown",
   "id": "e10b9fd6",
   "metadata": {},
   "source": [
    "# 24. Create a program that generates a list of all palindromic numbers up to a specified limit using a list comprehension.\n"
   ]
  },
  {
   "cell_type": "code",
   "execution_count": 4,
   "id": "5baf5e9a",
   "metadata": {},
   "outputs": [
    {
     "name": "stdout",
     "output_type": "stream",
     "text": [
      "Palindromic numbers up to 1000 are: [0, 1, 2, 3, 4, 5, 6, 7, 8, 9, 11, 22, 33, 44, 55, 66, 77, 88, 99, 101, 111, 121, 131, 141, 151, 161, 171, 181, 191, 202, 212, 222, 232, 242, 252, 262, 272, 282, 292, 303, 313, 323, 333, 343, 353, 363, 373, 383, 393, 404, 414, 424, 434, 444, 454, 464, 474, 484, 494, 505, 515, 525, 535, 545, 555, 565, 575, 585, 595, 606, 616, 626, 636, 646, 656, 666, 676, 686, 696, 707, 717, 727, 737, 747, 757, 767, 777, 787, 797, 808, 818, 828, 838, 848, 858, 868, 878, 888, 898, 909, 919, 929, 939, 949, 959, 969, 979, 989, 999]\n"
     ]
    }
   ],
   "source": [
    "# Function to check if a number is a palindrome\n",
    "def is_palindrome(number):\n",
    "    return str(number) == str(number)[::-1]\n",
    "\n",
    "# Function to generate a list of palindromic numbers up to a specified limit\n",
    "def generate_palindromic_numbers(limit):\n",
    "    return [number for number in range(limit + 1) if is_palindrome(number)]\n",
    "\n",
    "# Specify the limit for generating palindromic numbers\n",
    "limit = 1000  # You can change this limit as needed\n",
    "\n",
    "# Generate and print the list of palindromic numbers\n",
    "palindromic_numbers = generate_palindromic_numbers(limit)\n",
    "print(\"Palindromic numbers up to\", limit, \"are:\", palindromic_numbers)\n"
   ]
  },
  {
   "cell_type": "markdown",
   "id": "dfe3b308",
   "metadata": {},
   "source": [
    "# 25. Write a program to flatten a nested list using list comprehension.\n"
   ]
  },
  {
   "cell_type": "code",
   "execution_count": 5,
   "id": "02ae48cf",
   "metadata": {},
   "outputs": [
    {
     "name": "stdout",
     "output_type": "stream",
     "text": [
      "Nested List: [[1, 2, 3], [4, 5], [6, 7, 8]]\n",
      "Flattened List: [1, 2, 3, 4, 5, 6, 7, 8]\n"
     ]
    }
   ],
   "source": [
    "# Function to flatten a nested list using list comprehension\n",
    "def flatten_list(nested_list):\n",
    "    return [item for sublist in nested_list for item in sublist]\n",
    "\n",
    "# Example usage\n",
    "nested_list = [[1, 2, 3], [4, 5], [6, 7, 8]]\n",
    "flattened_list = flatten_list(nested_list)\n",
    "\n",
    "print(\"Nested List:\", nested_list)\n",
    "print(\"Flattened List:\", flattened_list)\n"
   ]
  },
  {
   "cell_type": "markdown",
   "id": "aec6c4dc",
   "metadata": {},
   "source": [
    "# 26. Develop a program that computes the sum of even and odd numbers in a list separately using list comprehension\n"
   ]
  },
  {
   "cell_type": "code",
   "execution_count": 6,
   "id": "e06d0614",
   "metadata": {},
   "outputs": [
    {
     "name": "stdout",
     "output_type": "stream",
     "text": [
      "Original List: [1, 2, 3, 4, 5, 6, 7, 8, 9]\n",
      "Sum of Even Numbers: 20\n",
      "Sum of Odd Numbers: 25\n"
     ]
    }
   ],
   "source": [
    "# Function to compute the sum of even and odd numbers separately\n",
    "def sum_even_odd_numbers(numbers):\n",
    "    even_sum = sum([num for num in numbers if num % 2 == 0])\n",
    "    odd_sum = sum([num for num in numbers if num % 2 != 0])\n",
    "    return even_sum, odd_sum\n",
    "\n",
    "# Example usage\n",
    "number_list = [1, 2, 3, 4, 5, 6, 7, 8, 9]\n",
    "\n",
    "even_sum, odd_sum = sum_even_odd_numbers(number_list)\n",
    "\n",
    "print(\"Original List:\", number_list)\n",
    "print(\"Sum of Even Numbers:\", even_sum)\n",
    "print(\"Sum of Odd Numbers:\", odd_sum)\n"
   ]
  },
  {
   "cell_type": "markdown",
   "id": "2ce09274",
   "metadata": {},
   "source": [
    "# 27. Create a program that generates a list of squares of odd numbers between 1 and 10 using list comprehension.\n"
   ]
  },
  {
   "cell_type": "code",
   "execution_count": 7,
   "id": "7fa8088c",
   "metadata": {},
   "outputs": [
    {
     "name": "stdout",
     "output_type": "stream",
     "text": [
      "Squares of Odd Numbers between 1 and 10: [1, 9, 25, 49, 81]\n"
     ]
    }
   ],
   "source": [
    "# Generate a list of squares of odd numbers between 1 and 10 using list comprehension\n",
    "squares_of_odd_numbers = [x ** 2 for x in range(1, 11) if x % 2 != 0]\n",
    "\n",
    "# Print the list of squares\n",
    "print(\"Squares of Odd Numbers between 1 and 10:\", squares_of_odd_numbers)\n"
   ]
  },
  {
   "cell_type": "markdown",
   "id": "7ecc50e2",
   "metadata": {},
   "source": [
    "# 28. Write a program that combines two lists into a dictionary using list comprehension.\n"
   ]
  },
  {
   "cell_type": "code",
   "execution_count": 8,
   "id": "5cd4aca8",
   "metadata": {},
   "outputs": [
    {
     "name": "stdout",
     "output_type": "stream",
     "text": [
      "Combined Dictionary: {'name': 'Alice', 'age': 25, 'city': 'New York'}\n"
     ]
    }
   ],
   "source": [
    "# Lists to be combined into a dictionary\n",
    "keys = [\"name\", \"age\", \"city\"]\n",
    "values = [\"Alice\", 25, \"New York\"]\n",
    "\n",
    "# Combine the lists into a dictionary using list comprehension\n",
    "combined_dict = {keys[i]: values[i] for i in range(len(keys))}\n",
    "\n",
    "# Print the resulting dictionary\n",
    "print(\"Combined Dictionary:\", combined_dict)\n"
   ]
  },
  {
   "cell_type": "markdown",
   "id": "128067b9",
   "metadata": {},
   "source": [
    "# 29. Develop a program that extracts the vowels from a string and stores them in a list using list comprehension.\n"
   ]
  },
  {
   "cell_type": "code",
   "execution_count": 9,
   "id": "956c0500",
   "metadata": {},
   "outputs": [
    {
     "name": "stdout",
     "output_type": "stream",
     "text": [
      "Input String: Hello, World!\n",
      "Extracted Vowels: ['e', 'o', 'o']\n"
     ]
    }
   ],
   "source": [
    "# Function to check if a character is a vowel\n",
    "def is_vowel(char):\n",
    "    return char.lower() in 'aeiou'\n",
    "\n",
    "# Input string\n",
    "input_string = \"Hello, World!\"\n",
    "\n",
    "# Extract vowels from the input string using list comprehension\n",
    "vowels = [char for char in input_string if is_vowel(char)]\n",
    "\n",
    "# Print the list of extracted vowels\n",
    "print(\"Input String:\", input_string)\n",
    "print(\"Extracted Vowels:\", vowels)\n"
   ]
  },
  {
   "cell_type": "markdown",
   "id": "d80f320f",
   "metadata": {},
   "source": [
    "# 30. Create a program that removes all non-numeric characters from a list of strings using list comprehension.\n"
   ]
  },
  {
   "cell_type": "code",
   "execution_count": 10,
   "id": "0c95834d",
   "metadata": {},
   "outputs": [
    {
     "name": "stdout",
     "output_type": "stream",
     "text": [
      "Original List: ['abc123', '456xyz', '789-10']\n",
      "List with Non-Numeric Characters Removed: ['123', '456', '78910']\n"
     ]
    }
   ],
   "source": [
    "# Function to remove non-numeric characters from a string\n",
    "def remove_non_numeric_chars(input_string):\n",
    "    return ''.join(char for char in input_string if char.isnumeric())\n",
    "\n",
    "# List of strings\n",
    "string_list = [\"abc123\", \"456xyz\", \"789-10\"]\n",
    "\n",
    "# Remove non-numeric characters from the list of strings using list comprehension\n",
    "numeric_strings = [remove_non_numeric_chars(string) for string in string_list]\n",
    "\n",
    "# Print the original list and the list with non-numeric characters removed\n",
    "print(\"Original List:\", string_list)\n",
    "print(\"List with Non-Numeric Characters Removed:\", numeric_strings)\n"
   ]
  },
  {
   "cell_type": "markdown",
   "id": "c62ca039",
   "metadata": {},
   "source": [
    "# Challenge Level:\n"
   ]
  },
  {
   "cell_type": "markdown",
   "id": "31a61e39",
   "metadata": {},
   "source": [
    "# 31. Write a program to generate a list of prime numbers using the Sieve of Eratosthenes algorithm and list comprehension.\n"
   ]
  },
  {
   "cell_type": "code",
   "execution_count": 11,
   "id": "3f611c0a",
   "metadata": {},
   "outputs": [
    {
     "name": "stdout",
     "output_type": "stream",
     "text": [
      "Prime numbers up to 100 are: [2, 3, 5, 7, 11, 13, 17, 19, 23, 29, 31, 37, 41, 43, 47, 53, 59, 61, 67, 71, 73, 79, 83, 89, 97]\n"
     ]
    }
   ],
   "source": [
    "# Function to generate prime numbers using the Sieve of Eratosthenes algorithm\n",
    "def sieve_of_eratosthenes(limit):\n",
    "    sieve = [True] * (limit + 1)\n",
    "    sieve[0:2] = [False, False]  # 0 and 1 are not prime\n",
    "    \n",
    "    for current in range(2, int(limit**0.5) + 1):\n",
    "        if sieve[current]:\n",
    "            for multiple in range(current * current, limit + 1, current):\n",
    "                sieve[multiple] = False\n",
    "    \n",
    "    return [num for num, is_prime in enumerate(sieve) if is_prime]\n",
    "\n",
    "# Specify the limit for generating prime numbers\n",
    "limit = 100  # You can change this limit as needed\n",
    "\n",
    "# Generate and print the list of prime numbers\n",
    "prime_numbers = sieve_of_eratosthenes(limit)\n",
    "print(\"Prime numbers up to\", limit, \"are:\", prime_numbers)\n"
   ]
  },
  {
   "cell_type": "markdown",
   "id": "120f3416",
   "metadata": {},
   "source": [
    "# 32. Create a program that generates a list of all Pythagorean triplets up to a specified limit using list comprehension."
   ]
  },
  {
   "cell_type": "code",
   "execution_count": 12,
   "id": "76110fcd",
   "metadata": {},
   "outputs": [
    {
     "name": "stdout",
     "output_type": "stream",
     "text": [
      "Pythagorean Triplets up to 20 are: [(3, 4, 5), (5, 12, 13), (6, 8, 10), (8, 15, 17), (9, 12, 15), (12, 16, 20)]\n"
     ]
    }
   ],
   "source": [
    "# Function to generate Pythagorean triplets up to a specified limit\n",
    "def generate_pythagorean_triplets(limit):\n",
    "    triplets = []\n",
    "    for a in range(1, limit + 1):\n",
    "        for b in range(a, limit + 1):\n",
    "            c_squared = a**2 + b**2\n",
    "            c = int(c_squared**0.5)\n",
    "            if c <= limit and c_squared == c**2:\n",
    "                triplets.append((a, b, c))\n",
    "    return triplets\n",
    "\n",
    "# Specify the limit for generating Pythagorean triplets\n",
    "limit = 20  # You can change this limit as needed\n",
    "\n",
    "# Generate and print the list of Pythagorean triplets\n",
    "pythagorean_triplets = generate_pythagorean_triplets(limit)\n",
    "print(\"Pythagorean Triplets up to\", limit, \"are:\", pythagorean_triplets)\n"
   ]
  },
  {
   "cell_type": "markdown",
   "id": "36e66ef7",
   "metadata": {},
   "source": [
    "# 33. Develop a program that generates a list of all possible combinations of two lists using list comprehension.\n"
   ]
  },
  {
   "cell_type": "code",
   "execution_count": 13,
   "id": "a03078f6",
   "metadata": {},
   "outputs": [
    {
     "name": "stdout",
     "output_type": "stream",
     "text": [
      "All Possible Combinations:\n",
      "(1, 'a')\n",
      "(1, 'b')\n",
      "(2, 'a')\n",
      "(2, 'b')\n",
      "(3, 'a')\n",
      "(3, 'b')\n"
     ]
    }
   ],
   "source": [
    "# Two example lists\n",
    "list1 = [1, 2, 3]\n",
    "list2 = ['a', 'b']\n",
    "\n",
    "# Generate all possible combinations of elements from list1 and list2\n",
    "combinations = [(x, y) for x in list1 for y in list2]\n",
    "\n",
    "# Print the list of combinations\n",
    "print(\"All Possible Combinations:\")\n",
    "for combination in combinations:\n",
    "    print(combination)\n"
   ]
  },
  {
   "cell_type": "markdown",
   "id": "378e7897",
   "metadata": {},
   "source": [
    "# 34. Write a program that calculates the mean, median, and mode of a list of numbers using list comprehension."
   ]
  },
  {
   "cell_type": "code",
   "execution_count": 14,
   "id": "448be310",
   "metadata": {},
   "outputs": [
    {
     "name": "stdout",
     "output_type": "stream",
     "text": [
      "List of Numbers: [2, 3, 5, 5, 6, 6, 7, 8, 8, 9]\n",
      "Mean: 5.9\n",
      "Median: 6.0\n",
      "Mode: 5\n"
     ]
    }
   ],
   "source": [
    "from statistics import mean, median, mode\n",
    "\n",
    "# List of numbers\n",
    "numbers = [2, 3, 5, 5, 6, 6, 7, 8, 8, 9]\n",
    "\n",
    "# Calculate the mean, median, and mode using built-in functions\n",
    "mean_value = mean(numbers)\n",
    "median_value = median(numbers)\n",
    "mode_value = mode(numbers)\n",
    "\n",
    "# Print the results\n",
    "print(\"List of Numbers:\", numbers)\n",
    "print(\"Mean:\", mean_value)\n",
    "print(\"Median:\", median_value)\n",
    "print(\"Mode:\", mode_value)\n"
   ]
  },
  {
   "cell_type": "markdown",
   "id": "5f035a7c",
   "metadata": {},
   "source": [
    "# 35. Create a program that generates Pascal's triangle up to a specified number of rows using list comprehension."
   ]
  },
  {
   "cell_type": "code",
   "execution_count": 15,
   "id": "4470aca6",
   "metadata": {},
   "outputs": [
    {
     "name": "stdout",
     "output_type": "stream",
     "text": [
      "[1]\n",
      "[1, 1]\n",
      "[1, 2, 1]\n",
      "[1, 3, 3, 1]\n",
      "[1, 4, 6, 4, 1]\n"
     ]
    }
   ],
   "source": [
    "# Function to generate Pascal's triangle up to a specified number of rows\n",
    "def generate_pascals_triangle(num_rows):\n",
    "    pascals_triangle = []\n",
    "    \n",
    "    for i in range(num_rows):\n",
    "        row = [1] if not pascals_triangle else [1]  # First element of each row is always 1\n",
    "        \n",
    "        if i > 1:\n",
    "            previous_row = pascals_triangle[-1]\n",
    "            for j in range(len(previous_row) - 1):\n",
    "                row.append(previous_row[j] + previous_row[j + 1])\n",
    "        \n",
    "        if i > 0:\n",
    "            row.append(1)  # Last element of each row is always 1\n",
    "        \n",
    "        pascals_triangle.append(row)\n",
    "    \n",
    "    return pascals_triangle\n",
    "\n",
    "# Specify the number of rows for Pascal's triangle\n",
    "num_rows = 5  # You can change this number as needed\n",
    "\n",
    "# Generate and print Pascal's triangle\n",
    "pascals_triangle = generate_pascals_triangle(num_rows)\n",
    "for row in pascals_triangle:\n",
    "    print(row)\n"
   ]
  },
  {
   "cell_type": "markdown",
   "id": "27e42a39",
   "metadata": {},
   "source": [
    "# 36. Develop a program that calculates the sum of the digits of a factorial of numbers from 1 to 5 using list comprehension."
   ]
  },
  {
   "cell_type": "code",
   "execution_count": 16,
   "id": "9fcb016d",
   "metadata": {},
   "outputs": [
    {
     "name": "stdout",
     "output_type": "stream",
     "text": [
      "Factorial of 1 is 1, Sum of Digits: 1\n",
      "Factorial of 2 is 2, Sum of Digits: 2\n",
      "Factorial of 3 is 6, Sum of Digits: 6\n",
      "Factorial of 4 is 24, Sum of Digits: 6\n",
      "Factorial of 5 is 120, Sum of Digits: 3\n"
     ]
    }
   ],
   "source": [
    "# Function to calculate the factorial of a number\n",
    "def factorial(n):\n",
    "    if n == 0:\n",
    "        return 1\n",
    "    else:\n",
    "        return n * factorial(n - 1)\n",
    "\n",
    "# Function to calculate the sum of the digits of a number\n",
    "def sum_of_digits(number):\n",
    "    return sum(int(digit) for digit in str(number))\n",
    "\n",
    "# Calculate the sum of digits of factorials of numbers from 1 to 5\n",
    "for n in range(1, 6):\n",
    "    fact = factorial(n)\n",
    "    digit_sum = sum_of_digits(fact)\n",
    "    print(f\"Factorial of {n} is {fact}, Sum of Digits: {digit_sum}\")\n"
   ]
  },
  {
   "cell_type": "markdown",
   "id": "1c372a36",
   "metadata": {},
   "source": [
    "# 37. Write a program that finds the longest word in a sentence using list comprehension.\n"
   ]
  },
  {
   "cell_type": "code",
   "execution_count": 17,
   "id": "19ee0ea7",
   "metadata": {},
   "outputs": [
    {
     "name": "stdout",
     "output_type": "stream",
     "text": [
      "Longest Word in the Sentence: sentence\n"
     ]
    }
   ],
   "source": [
    "# Input sentence\n",
    "sentence = \"This is a sample sentence with some long words.\"\n",
    "\n",
    "# Split the sentence into words\n",
    "words = sentence.split()\n",
    "\n",
    "# Use list comprehension to find the longest word\n",
    "longest_word = max(words, key=len)\n",
    "\n",
    "# Print the longest word\n",
    "print(\"Longest Word in the Sentence:\", longest_word)\n"
   ]
  },
  {
   "cell_type": "markdown",
   "id": "d06b4b21",
   "metadata": {},
   "source": [
    "# 38. Create a program that filters a list of strings to include only those with more than three vowels using list comprehension."
   ]
  },
  {
   "cell_type": "code",
   "execution_count": 1,
   "id": "758f483b",
   "metadata": {},
   "outputs": [
    {
     "name": "stdout",
     "output_type": "stream",
     "text": [
      "Original List of Strings: ['apple', 'banana', 'grape', 'elephant', 'tiger', 'ocean', 'sunshine']\n",
      "Filtered List with More Than Three Vowels: []\n"
     ]
    }
   ],
   "source": [
    "# Function to count vowels in a string\n",
    "def count_vowels(string):\n",
    "    vowels = \"AEIOUaeiou\"\n",
    "    return sum(1 for char in string if char in vowels)\n",
    "\n",
    "# List of strings\n",
    "string_list = [\"apple\", \"banana\", \"grape\", \"elephant\", \"tiger\", \"ocean\", \"sunshine\"]\n",
    "\n",
    "# Use list comprehension to filter strings with more than three vowels\n",
    "filtered_strings = [string for string in string_list if count_vowels(string) > 3]\n",
    "\n",
    "# Print the filtered list of strings\n",
    "print(\"Original List of Strings:\", string_list)\n",
    "print(\"Filtered List with More Than Three Vowels:\", filtered_strings)\n"
   ]
  },
  {
   "cell_type": "markdown",
   "id": "599986ba",
   "metadata": {},
   "source": [
    "# 39. Develop a program that calculates the sum of the digits of numbers from 1 to 1000 using list comprehension"
   ]
  },
  {
   "cell_type": "code",
   "execution_count": 2,
   "id": "078720a6",
   "metadata": {},
   "outputs": [
    {
     "name": "stdout",
     "output_type": "stream",
     "text": [
      "Sum of Digits from 1 to 1000: 13501\n"
     ]
    }
   ],
   "source": [
    "# Function to calculate the sum of the digits of a number\n",
    "def sum_of_digits(number):\n",
    "    return sum(int(digit) for digit in str(number))\n",
    "\n",
    "# Calculate the sum of digits of numbers from 1 to 1000\n",
    "total_sum = sum(sum_of_digits(num) for num in range(1, 1001))\n",
    "\n",
    "# Print the total sum\n",
    "print(\"Sum of Digits from 1 to 1000:\", total_sum)\n"
   ]
  },
  {
   "cell_type": "markdown",
   "id": "14dafec1",
   "metadata": {},
   "source": [
    "# 40. Write a program that generates a list of prime palindromic numbers using list comprehension.\n"
   ]
  },
  {
   "cell_type": "code",
   "execution_count": 3,
   "id": "2e691229",
   "metadata": {},
   "outputs": [
    {
     "name": "stdout",
     "output_type": "stream",
     "text": [
      "Prime Palindromic Numbers up to 1000: [2, 3, 5, 7, 11, 101, 131, 151, 181, 191, 313, 353, 373, 383, 727, 757, 787, 797, 919, 929]\n"
     ]
    }
   ],
   "source": [
    "# Function to check if a number is prime\n",
    "def is_prime(number):\n",
    "    if number <= 1:\n",
    "        return False\n",
    "    if number <= 3:\n",
    "        return True\n",
    "    if number % 2 == 0 or number % 3 == 0:\n",
    "        return False\n",
    "    i = 5\n",
    "    while i * i <= number:\n",
    "        if number % i == 0 or number % (i + 2) == 0:\n",
    "            return False\n",
    "        i += 6\n",
    "    return True\n",
    "\n",
    "# Function to check if a number is a palindrome\n",
    "def is_palindrome(number):\n",
    "    return str(number) == str(number)[::-1]\n",
    "\n",
    "# Generate a list of prime palindromic numbers\n",
    "prime_palindromes = [num for num in range(2, 1000) if is_prime(num) and is_palindrome(num)]\n",
    "\n",
    "# Print the list of prime palindromic numbers\n",
    "print(\"Prime Palindromic Numbers up to 1000:\", prime_palindromes)\n"
   ]
  }
 ],
 "metadata": {
  "kernelspec": {
   "display_name": "Python 3 (ipykernel)",
   "language": "python",
   "name": "python3"
  },
  "language_info": {
   "codemirror_mode": {
    "name": "ipython",
    "version": 3
   },
   "file_extension": ".py",
   "mimetype": "text/x-python",
   "name": "python",
   "nbconvert_exporter": "python",
   "pygments_lexer": "ipython3",
   "version": "3.11.1"
  }
 },
 "nbformat": 4,
 "nbformat_minor": 5
}
